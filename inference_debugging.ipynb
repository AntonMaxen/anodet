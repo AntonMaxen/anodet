{
 "cells": [
  {
   "cell_type": "code",
   "execution_count": 1,
   "metadata": {},
   "outputs": [],
   "source": [
    "import torch\n",
    "from torch.utils.data import DataLoader\n",
    "\n",
    "import matplotlib.pyplot as plt\n",
    "import time\n",
    "\n",
    "import datasets.mvtec as mvtec\n",
    "\n",
    "from feature_extraction import Resnet18Features, WideResnet50Features, extractEmbeddingVectors, getIndices\n",
    "# from distribution_fitting import getMeanCov\n",
    "from distance_calculation import calculateScoreMaps\n",
    "# from padim_utils import saveFeatures, loadFeatures\n",
    "from __init__ import AnomalyDetector, imageAnomalyDetection\n"
   ]
  },
  {
   "cell_type": "code",
   "execution_count": 22,
   "metadata": {},
   "outputs": [
    {
     "data": {
      "text/plain": [
       "device(type='cuda')"
      ]
     },
     "execution_count": 22,
     "metadata": {},
     "output_type": "execute_result"
    }
   ],
   "source": [
    "use_cuda = torch.cuda.is_available()\n",
    "device = torch.device('cuda' if use_cuda else 'cpu')\n",
    "# device = torch.device('cpu')\n",
    "device"
   ]
  },
  {
   "cell_type": "code",
   "execution_count": 29,
   "metadata": {},
   "outputs": [
    {
     "data": {
      "text/plain": [
       "torch.Size([1, 3, 224, 224])"
      ]
     },
     "execution_count": 29,
     "metadata": {},
     "output_type": "execute_result"
    }
   ],
   "source": [
    "class_name = 'down'\n",
    "data_path = '../data/aligned_pucks/'\n",
    "dataset = mvtec.MVTecDataset(data_path, class_name=class_name, is_train=True)\n",
    "dataloader = DataLoader(dataset, batch_size=32, pin_memory=True)\n",
    "len(dataset)\n",
    "x = next(iter(dataloader))[0][0].unsqueeze(0)\n",
    "# x = next(iter(dataloader))[0][:20]\n",
    "x.shape"
   ]
  },
  {
   "cell_type": "code",
   "execution_count": 30,
   "metadata": {},
   "outputs": [],
   "source": [
    "features_model = Resnet18Features(device)\n",
    "# features_model = WideResnet50Features(device)"
   ]
  },
  {
   "cell_type": "code",
   "execution_count": 31,
   "metadata": {},
   "outputs": [
    {
     "name": "stdout",
     "output_type": "stream",
     "text": [
      "0.06665721599711105\n"
     ]
    }
   ],
   "source": [
    "tic = time.perf_counter()\n",
    "mean = torch.load('./distributions/up_mean_test.pkl')\n",
    "cov_inv = torch.load('./distributions/up_cov_inv_test.pkl')\n",
    "mean = mean.to(device)\n",
    "cov_inv = cov_inv.to(device)\n",
    "\n",
    "print(time.perf_counter()-tic)\n"
   ]
  },
  {
   "cell_type": "code",
   "execution_count": null,
   "metadata": {},
   "outputs": [],
   "source": []
  },
  {
   "cell_type": "code",
   "execution_count": 32,
   "metadata": {},
   "outputs": [],
   "source": [
    "embedding_vectors = extractEmbeddingVectors(features_model, x, device)\n",
    "idx = getIndices(100, 448, device)  \n",
    "embedding_vectors = torch.index_select(embedding_vectors, 1, idx)"
   ]
  },
  {
   "cell_type": "code",
   "execution_count": 33,
   "metadata": {},
   "outputs": [
    {
     "name": "stdout",
     "output_type": "stream",
     "text": [
      "0.007298326003365219\n"
     ]
    }
   ],
   "source": [
    "tic = time.perf_counter()\n",
    "score_maps = calculateScoreMaps(mean, cov_inv, embedding_vectors, device=device, do_gaussian_filter=True)\n",
    "print(time.perf_counter()-tic)\n"
   ]
  },
  {
   "cell_type": "code",
   "execution_count": 34,
   "metadata": {},
   "outputs": [
    {
     "name": "stdout",
     "output_type": "stream",
     "text": [
      "torch.Size([56, 56])\n"
     ]
    },
    {
     "data": {
      "text/plain": [
       "tensor([11.5460, 11.7068, 12.0087, 12.4149, 12.8779, 13.3466, 13.7732, 14.1205,\n",
       "        14.3656, 14.5036, 14.5473, 14.5242, 14.4709, 14.4250, 14.4165, 14.4614,\n",
       "        14.5579, 14.6871, 14.8183, 14.9147, 14.9416, 14.8716, 14.6904, 14.3984,\n",
       "        14.0118, 13.5601, 13.0825, 12.6225, 12.2220, 11.9169, 11.7330, 11.6845,\n",
       "        11.7731, 11.9885, 12.3094, 12.7057, 13.1412, 13.5769, 13.9745, 14.3007,\n",
       "        14.5304, 14.6500, 14.6588, 14.5691, 14.4030, 14.1869, 13.9461, 13.6991,\n",
       "        13.4561, 13.2201, 12.9913, 12.7718, 12.5689, 12.3955, 12.2674, 12.1990],\n",
       "       device='cuda:0')"
      ]
     },
     "execution_count": 34,
     "metadata": {},
     "output_type": "execute_result"
    }
   ],
   "source": [
    "print(score_maps.shape)\n",
    "score_maps[0]"
   ]
  },
  {
   "cell_type": "code",
   "execution_count": null,
   "metadata": {},
   "outputs": [],
   "source": []
  },
  {
   "cell_type": "code",
   "execution_count": null,
   "metadata": {},
   "outputs": [],
   "source": []
  },
  {
   "cell_type": "code",
   "execution_count": null,
   "metadata": {},
   "outputs": [],
   "source": []
  },
  {
   "cell_type": "code",
   "execution_count": null,
   "metadata": {},
   "outputs": [],
   "source": []
  }
 ],
 "metadata": {
  "kernelspec": {
   "display_name": "Python 3",
   "language": "python",
   "name": "python3"
  },
  "language_info": {
   "codemirror_mode": {
    "name": "ipython",
    "version": 3
   },
   "file_extension": ".py",
   "mimetype": "text/x-python",
   "name": "python",
   "nbconvert_exporter": "python",
   "pygments_lexer": "ipython3",
   "version": "3.7.4"
  }
 },
 "nbformat": 4,
 "nbformat_minor": 4
}
