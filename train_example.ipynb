{
 "cells": [
  {
   "cell_type": "code",
   "execution_count": 1,
   "metadata": {},
   "outputs": [],
   "source": [
    "import torch\n",
    "from torchvision.models import wide_resnet50_2, resnet18\n",
    "import cv2\n",
    "import matplotlib.pyplot as plt\n",
    "\n",
    "from padim_utils import AnomalyDetector, extractEmbeddingVectors, getParameters\n",
    "from torch.utils.data import DataLoader\n",
    "import datasets.mvtec as mvtec\n"
   ]
  },
  {
   "cell_type": "markdown",
   "metadata": {},
   "source": [
    "## Set device"
   ]
  },
  {
   "cell_type": "code",
   "execution_count": 4,
   "metadata": {},
   "outputs": [
    {
     "data": {
      "text/plain": [
       "device(type='cpu')"
      ]
     },
     "execution_count": 4,
     "metadata": {},
     "output_type": "execute_result"
    }
   ],
   "source": [
    "use_cuda = torch.cuda.is_available()\n",
    "device = torch.device('cuda' if use_cuda else 'cpu')\n",
    "# device = torch.device('cpu')\n",
    "device"
   ]
  },
  {
   "cell_type": "markdown",
   "metadata": {},
   "source": [
    "## Load data"
   ]
  },
  {
   "cell_type": "code",
   "execution_count": 5,
   "metadata": {},
   "outputs": [
    {
     "data": {
      "text/plain": [
       "209"
      ]
     },
     "execution_count": 5,
     "metadata": {},
     "output_type": "execute_result"
    }
   ],
   "source": [
    "class_name = 'bottle'\n",
    "data_path = '../mvtec_dataset/'\n",
    "dataset = mvtec.MVTecDataset(data_path, class_name=class_name, is_train=True)\n",
    "dataloader = DataLoader(dataset, batch_size=32, pin_memory=True)\n",
    "dataset.__len__()"
   ]
  },
  {
   "cell_type": "markdown",
   "metadata": {},
   "source": [
    "## Init model"
   ]
  },
  {
   "cell_type": "code",
   "execution_count": 13,
   "metadata": {},
   "outputs": [],
   "source": [
    "# model = resnet18(pretrained=True, progress=True)\n",
    "# model = wide_resnet50_2(pretrained=True, progress=True)\n",
    "model = resnet18(pretrained=True)\n",
    "\n",
    "model.to(device)\n",
    "model.eval()\n",
    "pass"
   ]
  },
  {
   "cell_type": "markdown",
   "metadata": {},
   "source": [
    "## Extract embedding vectors"
   ]
  },
  {
   "cell_type": "code",
   "execution_count": 14,
   "metadata": {},
   "outputs": [
    {
     "name": "stderr",
     "output_type": "stream",
     "text": [
      "| feature extraction | train |: 100%|██████████| 7/7 [00:15<00:00,  2.22s/it]\n"
     ]
    }
   ],
   "source": [
    "embedding_vectors = extractEmbeddingVectors(dataloader, model, device)"
   ]
  },
  {
   "cell_type": "code",
   "execution_count": 19,
   "metadata": {},
   "outputs": [
    {
     "data": {
      "text/plain": [
       "torch.Size([209, 448, 56, 56])"
      ]
     },
     "execution_count": 19,
     "metadata": {},
     "output_type": "execute_result"
    }
   ],
   "source": [
    "embedding_vectors.shape"
   ]
  },
  {
   "cell_type": "code",
   "execution_count": 20,
   "metadata": {},
   "outputs": [
    {
     "data": {
      "text/plain": [
       "torch.Size([32, 448, 56, 56])"
      ]
     },
     "execution_count": 20,
     "metadata": {},
     "output_type": "execute_result"
    }
   ],
   "source": [
    "embedding_vectors[:32].shape"
   ]
  },
  {
   "cell_type": "code",
   "execution_count": 23,
   "metadata": {},
   "outputs": [
    {
     "data": {
      "text/plain": [
       "tensor([[[0.0080, 0.0000, 0.0000,  ..., 0.0186, 0.2225, 0.2169],\n",
       "         [0.3165, 0.4252, 0.3331,  ..., 0.4363, 0.6555, 0.5827],\n",
       "         [0.0690, 0.1611, 0.0030,  ..., 0.0766, 0.3925, 0.4344],\n",
       "         ...,\n",
       "         [0.2314, 0.3079, 0.1707,  ..., 0.2362, 0.3392, 0.3081],\n",
       "         [0.4463, 0.5012, 0.3271,  ..., 0.3008, 0.4765, 0.3464],\n",
       "         [0.2140, 0.3058, 0.2108,  ..., 0.1384, 0.3433, 0.3809]],\n",
       "\n",
       "        [[0.7719, 0.4407, 0.3717,  ..., 0.1763, 0.4452, 0.4018],\n",
       "         [0.6317, 0.2984, 0.2470,  ..., 0.1497, 0.7339, 0.1960],\n",
       "         [0.8942, 0.7679, 0.9299,  ..., 0.7759, 1.3310, 0.7118],\n",
       "         ...,\n",
       "         [0.6273, 0.3663, 0.5409,  ..., 0.2458, 0.7742, 0.2955],\n",
       "         [0.8396, 0.6507, 0.7220,  ..., 0.5920, 1.2256, 0.4755],\n",
       "         [0.2068, 0.0000, 0.0000,  ..., 0.0000, 0.1715, 0.0000]],\n",
       "\n",
       "        [[0.6660, 1.0061, 1.0134,  ..., 1.0561, 0.8507, 0.2662],\n",
       "         [1.0360, 0.5879, 0.4942,  ..., 0.5078, 0.6833, 0.3723],\n",
       "         [1.2030, 0.4042, 0.2998,  ..., 0.3944, 0.6628, 0.4357],\n",
       "         ...,\n",
       "         [1.3134, 0.4197, 0.2939,  ..., 0.3776, 0.6984, 0.4088],\n",
       "         [1.2435, 0.7237, 0.9143,  ..., 0.7428, 0.7433, 0.4095],\n",
       "         [0.2468, 0.2654, 0.4170,  ..., 0.1849, 0.0000, 0.0000]],\n",
       "\n",
       "        ...,\n",
       "\n",
       "        [[0.7839, 0.7839, 0.7839,  ..., 1.6567, 1.6567, 1.6567],\n",
       "         [0.7839, 0.7839, 0.7839,  ..., 1.6567, 1.6567, 1.6567],\n",
       "         [0.7839, 0.7839, 0.7839,  ..., 1.6567, 1.6567, 1.6567],\n",
       "         ...,\n",
       "         [0.0000, 0.0000, 0.0000,  ..., 0.2003, 0.2003, 0.2003],\n",
       "         [0.0000, 0.0000, 0.0000,  ..., 0.2003, 0.2003, 0.2003],\n",
       "         [0.0000, 0.0000, 0.0000,  ..., 0.2003, 0.2003, 0.2003]],\n",
       "\n",
       "        [[0.1671, 0.1671, 0.1671,  ..., 0.0608, 0.0608, 0.0608],\n",
       "         [0.1671, 0.1671, 0.1671,  ..., 0.0608, 0.0608, 0.0608],\n",
       "         [0.1671, 0.1671, 0.1671,  ..., 0.0608, 0.0608, 0.0608],\n",
       "         ...,\n",
       "         [0.1406, 0.1406, 0.1406,  ..., 0.0216, 0.0216, 0.0216],\n",
       "         [0.1406, 0.1406, 0.1406,  ..., 0.0216, 0.0216, 0.0216],\n",
       "         [0.1406, 0.1406, 0.1406,  ..., 0.0216, 0.0216, 0.0216]],\n",
       "\n",
       "        [[0.4236, 0.4236, 0.4236,  ..., 0.7049, 0.7049, 0.7049],\n",
       "         [0.4236, 0.4236, 0.4236,  ..., 0.7049, 0.7049, 0.7049],\n",
       "         [0.4236, 0.4236, 0.4236,  ..., 0.7049, 0.7049, 0.7049],\n",
       "         ...,\n",
       "         [0.8802, 0.8802, 0.8802,  ..., 0.4689, 0.4689, 0.4689],\n",
       "         [0.8802, 0.8802, 0.8802,  ..., 0.4689, 0.4689, 0.4689],\n",
       "         [0.8802, 0.8802, 0.8802,  ..., 0.4689, 0.4689, 0.4689]]])"
      ]
     },
     "execution_count": 23,
     "metadata": {},
     "output_type": "execute_result"
    }
   ],
   "source": [
    "embedding_vectors[:32][0]"
   ]
  },
  {
   "cell_type": "code",
   "execution_count": null,
   "metadata": {},
   "outputs": [],
   "source": []
  },
  {
   "cell_type": "code",
   "execution_count": null,
   "metadata": {},
   "outputs": [],
   "source": []
  },
  {
   "cell_type": "code",
   "execution_count": null,
   "metadata": {},
   "outputs": [],
   "source": []
  },
  {
   "cell_type": "markdown",
   "metadata": {},
   "source": [
    "## Calculate mean vectors and covariance matrices"
   ]
  },
  {
   "cell_type": "code",
   "execution_count": 18,
   "metadata": {},
   "outputs": [],
   "source": [
    "mean, cov = getParameters(embedding_vectors)"
   ]
  },
  {
   "cell_type": "markdown",
   "metadata": {},
   "source": [
    "## Save values"
   ]
  },
  {
   "cell_type": "code",
   "execution_count": null,
   "metadata": {},
   "outputs": [],
   "source": [
    "# PATH = './batch_example.pkl'\n",
    "# saveFeatures((mean, cov), PATH)"
   ]
  }
 ],
 "metadata": {
  "kernelspec": {
   "display_name": "Python 3",
   "language": "python",
   "name": "python3"
  },
  "language_info": {
   "codemirror_mode": {
    "name": "ipython",
    "version": 3
   },
   "file_extension": ".py",
   "mimetype": "text/x-python",
   "name": "python",
   "nbconvert_exporter": "python",
   "pygments_lexer": "ipython3",
   "version": "3.7.4"
  }
 },
 "nbformat": 4,
 "nbformat_minor": 4
}
