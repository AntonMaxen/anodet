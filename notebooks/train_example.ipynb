{
 "cells": [
  {
   "cell_type": "code",
   "execution_count": 1,
   "metadata": {},
   "outputs": [],
   "source": [
    "import torch\n",
    "from torch.utils.data import DataLoader\n",
    "\n",
    "import matplotlib.pyplot as plt\n",
    "import time\n",
    "\n",
    "import datasets.mvtec as mvtec\n",
    "\n",
    "from feature_extraction import Resnet18Features, WideResnet50Features, extractEmbeddingVectors, extractEmbeddingVectorsDataloader, getIndices\n",
    "from distribution_fitting import getMeanCov\n",
    "from score_calculation import calculatePatchScore, calculateImageScore, calculateImageClassification, calculatePatchClassification\n",
    "# from padim_utils import saveFeatures\n",
    "\n",
    "# from torchvision.models import wide_resnet50_2, resnet18\n"
   ]
  },
  {
   "cell_type": "code",
   "execution_count": 2,
   "metadata": {},
   "outputs": [
    {
     "data": {
      "text/plain": [
       "device(type='cpu')"
      ]
     },
     "execution_count": 2,
     "metadata": {},
     "output_type": "execute_result"
    }
   ],
   "source": [
    "use_cuda = torch.cuda.is_available()\n",
    "# device = torch.device('cuda' if use_cuda else 'cpu')\n",
    "device = torch.device('cpu')\n",
    "device"
   ]
  },
  {
   "cell_type": "code",
   "execution_count": 3,
   "metadata": {},
   "outputs": [
    {
     "data": {
      "text/plain": [
       "100"
      ]
     },
     "execution_count": 3,
     "metadata": {},
     "output_type": "execute_result"
    }
   ],
   "source": [
    "class_name = 'up'\n",
    "data_path = '../data/aligned_pucks/'\n",
    "dataset = mvtec.MVTecDataset(data_path, class_name=class_name, is_train=True)\n",
    "dataloader = DataLoader(dataset, batch_size=32, pin_memory=True)\n",
    "len(dataset)\n",
    "# x = next(iter(dataloader))[0][0].unsqueeze(0)\n",
    "# x.shape"
   ]
  },
  {
   "cell_type": "code",
   "execution_count": 4,
   "metadata": {},
   "outputs": [],
   "source": [
    "features_model = Resnet18Features(device)\n",
    "# features_model = WideResnet50Features(device)"
   ]
  },
  {
   "cell_type": "code",
   "execution_count": null,
   "metadata": {},
   "outputs": [],
   "source": []
  },
  {
   "cell_type": "code",
   "execution_count": 5,
   "metadata": {},
   "outputs": [
    {
     "name": "stderr",
     "output_type": "stream",
     "text": [
      "Feature extraction:   0%|          | 0/4 [00:00<?, ?it/s]/home/plejd/anaconda3/envs/vision/lib/python3.7/site-packages/torch/nn/functional.py:718: UserWarning: Named tensors and all their associated APIs are an experimental feature and subject to change. Please do not use them for anything important until they are released as stable. (Triggered internally at  /pytorch/c10/core/TensorImpl.h:1156.)\n",
      "  return torch.max_pool2d(input, kernel_size, stride, padding, dilation, ceil_mode)\n",
      "Feature extraction: 100%|██████████| 4/4 [00:07<00:00,  1.76s/it]"
     ]
    },
    {
     "name": "stdout",
     "output_type": "stream",
     "text": [
      "7.063172661000863\n"
     ]
    },
    {
     "name": "stderr",
     "output_type": "stream",
     "text": [
      "\n"
     ]
    }
   ],
   "source": [
    "tic = time.perf_counter()\n",
    "embedding_vectors = extractEmbeddingVectorsDataloader(features_model, dataloader, device)\n",
    "print(time.perf_counter()-tic)"
   ]
  },
  {
   "cell_type": "code",
   "execution_count": 6,
   "metadata": {},
   "outputs": [],
   "source": [
    "idx = getIndices(100, 448, device)  \n",
    "# idx = getIndices(550, 1792, device)  \n",
    "# idx = getIndices(400, 1792, device)  \n",
    "embedding_vectors = torch.index_select(embedding_vectors, 1, idx)\n"
   ]
  },
  {
   "cell_type": "code",
   "execution_count": 7,
   "metadata": {},
   "outputs": [
    {
     "data": {
      "text/plain": [
       "torch.Size([100, 100, 56, 56])"
      ]
     },
     "execution_count": 7,
     "metadata": {},
     "output_type": "execute_result"
    }
   ],
   "source": [
    "embedding_vectors.shape"
   ]
  },
  {
   "cell_type": "code",
   "execution_count": 8,
   "metadata": {},
   "outputs": [
    {
     "name": "stderr",
     "output_type": "stream",
     "text": [
      "Calculating covariance:   4%|▍         | 118/3136 [00:00<00:02, 1094.41it/s]"
     ]
    },
    {
     "name": "stdout",
     "output_type": "stream",
     "text": [
      "Calculating mean\n"
     ]
    },
    {
     "name": "stderr",
     "output_type": "stream",
     "text": [
      "Calculating covariance: 100%|██████████| 3136/3136 [00:02<00:00, 1227.89it/s]\n"
     ]
    },
    {
     "name": "stdout",
     "output_type": "stream",
     "text": [
      "Calculating inverse of covariance\n",
      "3.221637168957386\n"
     ]
    }
   ],
   "source": [
    "tic = time.perf_counter()\n",
    "mean, cov, cov_inv = getMeanCov(embedding_vectors, torch.device('cpu'))\n",
    "print(time.perf_counter()-tic)"
   ]
  },
  {
   "cell_type": "code",
   "execution_count": null,
   "metadata": {},
   "outputs": [],
   "source": []
  },
  {
   "cell_type": "code",
   "execution_count": 9,
   "metadata": {},
   "outputs": [],
   "source": [
    "torch.save(mean, './distributions/up_mean_test2.pt')\n",
    "# torch.save(cov, './distributions/up_cov_test.pkl')\n",
    "torch.save(cov_inv, './distributions/up_cov_inv_test2.pt')\n"
   ]
  },
  {
   "cell_type": "code",
   "execution_count": null,
   "metadata": {},
   "outputs": [],
   "source": []
  },
  {
   "cell_type": "code",
   "execution_count": null,
   "metadata": {},
   "outputs": [],
   "source": []
  }
 ],
 "metadata": {
  "kernelspec": {
   "display_name": "Python 3",
   "language": "python",
   "name": "python3"
  },
  "language_info": {
   "codemirror_mode": {
    "name": "ipython",
    "version": 3
   },
   "file_extension": ".py",
   "mimetype": "text/x-python",
   "name": "python",
   "nbconvert_exporter": "python",
   "pygments_lexer": "ipython3",
   "version": "3.7.4"
  }
 },
 "nbformat": 4,
 "nbformat_minor": 4
}
