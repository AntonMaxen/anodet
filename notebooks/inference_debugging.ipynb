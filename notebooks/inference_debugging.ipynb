{
 "cells": [
  {
   "cell_type": "code",
   "execution_count": 1,
   "metadata": {},
   "outputs": [],
   "source": [
    "import torch\n",
    "from torch.utils.data import DataLoader\n",
    "\n",
    "import matplotlib.pyplot as plt\n",
    "import time\n",
    "\n",
    "import datasets.mvtec as mvtec\n",
    "\n",
    "from feature_extraction import Resnet18Features, WideResnet50Features, extractEmbeddingVectors, getIndices\n",
    "# from distribution_fitting import getMeanCov\n",
    "from score_calculation import calculatePatchScore, calculateImageScore, calculateImageClassification, calculatePatchClassification\n",
    "# from padim_utils import saveFeatures, loadFeatures\n",
    "# from __init__ import AnomalyDetector, imageAnomalyDetection\n"
   ]
  },
  {
   "cell_type": "code",
   "execution_count": 2,
   "metadata": {},
   "outputs": [
    {
     "data": {
      "text/plain": [
       "device(type='cuda')"
      ]
     },
     "execution_count": 2,
     "metadata": {},
     "output_type": "execute_result"
    }
   ],
   "source": [
    "use_cuda = torch.cuda.is_available()\n",
    "device = torch.device('cuda' if use_cuda else 'cpu')\n",
    "# device = torch.device('cpu')\n",
    "device"
   ]
  },
  {
   "cell_type": "code",
   "execution_count": 3,
   "metadata": {},
   "outputs": [
    {
     "data": {
      "text/plain": [
       "torch.Size([20, 3, 224, 224])"
      ]
     },
     "execution_count": 3,
     "metadata": {},
     "output_type": "execute_result"
    }
   ],
   "source": [
    "class_name = 'down'\n",
    "data_path = '../data/aligned_pucks/'\n",
    "dataset = mvtec.MVTecDataset(data_path, class_name=class_name, is_train=True)\n",
    "dataloader = DataLoader(dataset, batch_size=32, pin_memory=True)\n",
    "len(dataset)\n",
    "# x = next(iter(dataloader))[0][0].unsqueeze(0)\n",
    "x = next(iter(dataloader))[0][:20]\n",
    "x.shape"
   ]
  },
  {
   "cell_type": "code",
   "execution_count": 4,
   "metadata": {},
   "outputs": [],
   "source": [
    "features_model = Resnet18Features(device)\n",
    "# features_model = WideResnet50Features(device)"
   ]
  },
  {
   "cell_type": "code",
   "execution_count": 5,
   "metadata": {},
   "outputs": [
    {
     "name": "stdout",
     "output_type": "stream",
     "text": [
      "0.06584810500498861\n"
     ]
    }
   ],
   "source": [
    "tic = time.perf_counter()\n",
    "mean = torch.load('./distributions/up_mean_test.pkl').to(device)\n",
    "cov_inv = torch.load('./distributions/up_cov_inv_test.pkl').to(device)\n",
    "print(time.perf_counter()-tic)\n"
   ]
  },
  {
   "cell_type": "code",
   "execution_count": null,
   "metadata": {},
   "outputs": [],
   "source": []
  },
  {
   "cell_type": "code",
   "execution_count": 6,
   "metadata": {},
   "outputs": [
    {
     "name": "stderr",
     "output_type": "stream",
     "text": [
      "/home/plejd/anaconda3/envs/vision/lib/python3.7/site-packages/torch/nn/functional.py:718: UserWarning: Named tensors and all their associated APIs are an experimental feature and subject to change. Please do not use them for anything important until they are released as stable. (Triggered internally at  /pytorch/c10/core/TensorImpl.h:1156.)\n",
      "  return torch.max_pool2d(input, kernel_size, stride, padding, dilation, ceil_mode)\n"
     ]
    }
   ],
   "source": [
    "indices = getIndices(100, 448, device)\n",
    "embedding_vectors = extractEmbeddingVectors(features_model, x, device, indices=indices)"
   ]
  },
  {
   "cell_type": "code",
   "execution_count": 7,
   "metadata": {},
   "outputs": [
    {
     "name": "stdout",
     "output_type": "stream",
     "text": [
      "0.26284912799019367\n"
     ]
    }
   ],
   "source": [
    "tic = time.perf_counter()\n",
    "patch_scores = calculatePatchScore(mean, cov_inv, embedding_vectors, device=device, do_gaussian_filter=True)\n",
    "print(time.perf_counter()-tic)\n"
   ]
  },
  {
   "cell_type": "code",
   "execution_count": 8,
   "metadata": {},
   "outputs": [
    {
     "name": "stdout",
     "output_type": "stream",
     "text": [
      "torch.Size([20, 56, 56])\n"
     ]
    },
    {
     "data": {
      "text/plain": [
       "tensor([[39.0265, 38.7949, 38.3410,  ..., 38.9249, 39.5321, 39.8438],\n",
       "        [38.8017, 38.5816, 38.1495,  ..., 38.8452, 39.4566, 39.7708],\n",
       "        [38.3605, 38.1626, 37.7730,  ..., 38.6925, 39.3099, 39.6280],\n",
       "        ...,\n",
       "        [37.2169, 37.0863, 36.8220,  ..., 32.1420, 32.4493, 32.6096],\n",
       "        [37.2117, 37.0850, 36.8290,  ..., 32.0424, 32.3241, 32.4706],\n",
       "        [37.1995, 37.0754, 36.8244,  ..., 31.9896, 32.2583, 32.3977]],\n",
       "       device='cuda:0')"
      ]
     },
     "execution_count": 8,
     "metadata": {},
     "output_type": "execute_result"
    }
   ],
   "source": [
    "print(patch_scores.shape)\n",
    "patch_scores[1]"
   ]
  },
  {
   "cell_type": "code",
   "execution_count": 9,
   "metadata": {},
   "outputs": [],
   "source": [
    "patch_classifications = calculatePatchClassification(patch_scores, 10)\n",
    "image_scores = calculateImageScore(patch_scores)\n",
    "image_classifications = calculateImageClassification(image_scores, 10)\n"
   ]
  },
  {
   "cell_type": "code",
   "execution_count": null,
   "metadata": {},
   "outputs": [],
   "source": []
  },
  {
   "cell_type": "code",
   "execution_count": null,
   "metadata": {},
   "outputs": [],
   "source": []
  }
 ],
 "metadata": {
  "kernelspec": {
   "display_name": "Python 3",
   "language": "python",
   "name": "python3"
  },
  "language_info": {
   "codemirror_mode": {
    "name": "ipython",
    "version": 3
   },
   "file_extension": ".py",
   "mimetype": "text/x-python",
   "name": "python",
   "nbconvert_exporter": "python",
   "pygments_lexer": "ipython3",
   "version": "3.7.4"
  }
 },
 "nbformat": 4,
 "nbformat_minor": 4
}
