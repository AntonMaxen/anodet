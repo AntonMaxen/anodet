{
 "cells": [
  {
   "cell_type": "code",
   "execution_count": 22,
   "metadata": {},
   "outputs": [],
   "source": [
    "import torch\n",
    "from torchvision.models import wide_resnet50_2, resnet18\n",
    "import cv2\n",
    "import matplotlib.pyplot as plt\n",
    "\n",
    "from padim_utils import AnomalyDetector,extractEmbeddingVectorsBatched, extractEmbeddingVectors, getParameters, getSeedIndices\n",
    "from torch.utils.data import DataLoader\n",
    "import datasets.mvtec as mvtec\n"
   ]
  },
  {
   "cell_type": "markdown",
   "metadata": {},
   "source": [
    "## Set device"
   ]
  },
  {
   "cell_type": "code",
   "execution_count": 2,
   "metadata": {},
   "outputs": [
    {
     "data": {
      "text/plain": [
       "device(type='cuda')"
      ]
     },
     "execution_count": 2,
     "metadata": {},
     "output_type": "execute_result"
    }
   ],
   "source": [
    "use_cuda = torch.cuda.is_available()\n",
    "device = torch.device('cuda' if use_cuda else 'cpu')\n",
    "# device = torch.device('cpu')\n",
    "device"
   ]
  },
  {
   "cell_type": "markdown",
   "metadata": {},
   "source": [
    "## Load data"
   ]
  },
  {
   "cell_type": "code",
   "execution_count": 20,
   "metadata": {},
   "outputs": [],
   "source": [
    "class_name = 'up'\n",
    "data_path = '../data/aligned_pucks/'\n",
    "dataset = mvtec.MVTecDataset(data_path, class_name=class_name, is_train=True)\n",
    "dataloader = DataLoader(dataset, batch_size=32, pin_memory=True)\n",
    "dataset.__len__()\n",
    "\n",
    "x = next(iter(dataloader))[0][0].unsqueeze(0)\n"
   ]
  },
  {
   "cell_type": "markdown",
   "metadata": {},
   "source": [
    "## Init model"
   ]
  },
  {
   "cell_type": "code",
   "execution_count": 4,
   "metadata": {},
   "outputs": [],
   "source": [
    "# model = resnet18(pretrained=True, progress=True)\n",
    "# model = wide_resnet50_2(pretrained=True, progress=True)\n",
    "model = resnet18(pretrained=True)\n",
    "\n",
    "model.to(device)\n",
    "model.eval()\n",
    "pass"
   ]
  },
  {
   "cell_type": "code",
   "execution_count": 24,
   "metadata": {},
   "outputs": [],
   "source": [
    "embedding_vectors = extractEmbeddingVectorsBatched(x, model, device)"
   ]
  },
  {
   "cell_type": "code",
   "execution_count": 25,
   "metadata": {},
   "outputs": [
    {
     "data": {
      "text/plain": [
       "tensor([[[[0.4741, 0.4741, 0.4741,  ..., 0.5881, 0.5881, 0.5881],\n",
       "          [0.4741, 0.4741, 0.4741,  ..., 0.5881, 0.5881, 0.5881],\n",
       "          [0.4741, 0.4741, 0.4741,  ..., 0.5881, 0.5881, 0.5881],\n",
       "          ...,\n",
       "          [0.5465, 0.5465, 0.5465,  ..., 0.4845, 0.4845, 0.4845],\n",
       "          [0.5465, 0.5465, 0.5465,  ..., 0.4845, 0.4845, 0.4845],\n",
       "          [0.5465, 0.5465, 0.5465,  ..., 0.4845, 0.4845, 0.4845]],\n",
       "\n",
       "         [[0.0000, 0.1039, 1.2334,  ..., 0.0000, 0.7350, 1.1214],\n",
       "          [0.0000, 0.0000, 0.0000,  ..., 0.0000, 0.2409, 0.9744],\n",
       "          [0.0000, 0.0000, 0.0000,  ..., 0.0000, 0.2060, 0.7433],\n",
       "          ...,\n",
       "          [0.7956, 1.7487, 1.1738,  ..., 0.0000, 0.0000, 0.0000],\n",
       "          [0.7863, 1.2513, 1.3964,  ..., 0.0000, 0.0000, 0.0000],\n",
       "          [0.2038, 0.0000, 0.4718,  ..., 0.0000, 0.0000, 0.0000]],\n",
       "\n",
       "         [[0.7073, 0.7073, 0.5865,  ..., 0.7377, 1.0410, 1.0410],\n",
       "          [0.7073, 0.7073, 0.5865,  ..., 0.7377, 1.0410, 1.0410],\n",
       "          [0.6983, 0.6983, 0.9845,  ..., 0.8331, 1.6081, 1.6081],\n",
       "          ...,\n",
       "          [0.5288, 0.5288, 0.8151,  ..., 0.0000, 0.9355, 0.9355],\n",
       "          [0.7811, 0.7811, 0.7581,  ..., 0.0000, 1.4340, 1.4340],\n",
       "          [0.7811, 0.7811, 0.7581,  ..., 0.0000, 1.4340, 1.4340]],\n",
       "\n",
       "         ...,\n",
       "\n",
       "         [[0.0000, 0.0000, 0.0000,  ..., 0.0000, 0.0000, 0.0000],\n",
       "          [0.0000, 0.0000, 0.0000,  ..., 0.0000, 0.0000, 0.0000],\n",
       "          [0.0000, 0.0000, 0.0000,  ..., 0.0000, 0.0000, 0.0000],\n",
       "          ...,\n",
       "          [0.2926, 0.2926, 0.2926,  ..., 0.0000, 0.0000, 0.0000],\n",
       "          [0.2926, 0.2926, 0.2926,  ..., 0.0000, 0.0000, 0.0000],\n",
       "          [0.2926, 0.2926, 0.2926,  ..., 0.0000, 0.0000, 0.0000]],\n",
       "\n",
       "         [[0.7399, 0.7399, 0.7399,  ..., 0.3136, 0.3136, 0.3136],\n",
       "          [0.7399, 0.7399, 0.7399,  ..., 0.3136, 0.3136, 0.3136],\n",
       "          [0.7399, 0.7399, 0.7399,  ..., 0.3136, 0.3136, 0.3136],\n",
       "          ...,\n",
       "          [0.0000, 0.0000, 0.0000,  ..., 0.0417, 0.0417, 0.0417],\n",
       "          [0.0000, 0.0000, 0.0000,  ..., 0.0417, 0.0417, 0.0417],\n",
       "          [0.0000, 0.0000, 0.0000,  ..., 0.0417, 0.0417, 0.0417]],\n",
       "\n",
       "         [[0.0000, 0.4784, 1.5814,  ..., 1.4936, 0.8989, 1.3289],\n",
       "          [0.0000, 0.0000, 1.6207,  ..., 0.2348, 0.0000, 0.1939],\n",
       "          [1.1795, 0.1318, 1.2099,  ..., 0.4766, 0.0000, 0.0000],\n",
       "          ...,\n",
       "          [0.7070, 0.7682, 0.5398,  ..., 1.2254, 1.8017, 1.0210],\n",
       "          [2.0893, 0.2906, 1.0653,  ..., 0.0000, 0.3031, 0.6217],\n",
       "          [0.0000, 0.0000, 0.5695,  ..., 0.0000, 0.0000, 0.4461]]]])"
      ]
     },
     "execution_count": 25,
     "metadata": {},
     "output_type": "execute_result"
    }
   ],
   "source": [
    "embedding_vectors"
   ]
  },
  {
   "cell_type": "markdown",
   "metadata": {},
   "source": [
    "## Extract embedding vectors"
   ]
  },
  {
   "cell_type": "code",
   "execution_count": 13,
   "metadata": {},
   "outputs": [
    {
     "name": "stderr",
     "output_type": "stream",
     "text": [
      "| feature extraction | train |: 100%|██████████| 4/4 [00:02<00:00,  1.75it/s]\n"
     ]
    }
   ],
   "source": [
    "embedding_vectors = extractEmbeddingVectors(dataloader, model, device)"
   ]
  },
  {
   "cell_type": "code",
   "execution_count": 14,
   "metadata": {},
   "outputs": [
    {
     "data": {
      "text/plain": [
       "torch.Size([100, 448, 56, 56])"
      ]
     },
     "execution_count": 14,
     "metadata": {},
     "output_type": "execute_result"
    }
   ],
   "source": [
    "embedding_vectors.shape"
   ]
  },
  {
   "cell_type": "code",
   "execution_count": 18,
   "metadata": {},
   "outputs": [
    {
     "data": {
      "text/plain": [
       "tensor([[0.0000, 0.0000, 0.2103,  ..., 0.0000, 0.0000, 0.0000],\n",
       "        [0.0000, 0.0000, 0.2103,  ..., 0.0000, 0.0000, 0.0000],\n",
       "        [0.2382, 0.2382, 0.0000,  ..., 0.0000, 0.0000, 0.0000],\n",
       "        ...,\n",
       "        [0.0000, 0.0000, 0.4931,  ..., 0.0000, 0.0000, 0.0000],\n",
       "        [0.0051, 0.0051, 0.1543,  ..., 0.0000, 0.0000, 0.0000],\n",
       "        [0.0051, 0.0051, 0.1543,  ..., 0.0000, 0.0000, 0.0000]])"
      ]
     },
     "execution_count": 18,
     "metadata": {},
     "output_type": "execute_result"
    }
   ],
   "source": [
    "embedding_vectors[10][100]"
   ]
  },
  {
   "cell_type": "code",
   "execution_count": 8,
   "metadata": {},
   "outputs": [],
   "source": [
    "# embedding_vectors[:32][0]"
   ]
  },
  {
   "cell_type": "code",
   "execution_count": 9,
   "metadata": {},
   "outputs": [],
   "source": [
    "idx = getSeedIndices(100, 448, device)  \n",
    "# idx = getIndices(550, 1792, device)  \n",
    "embedding_vectors = torch.index_select(embedding_vectors, 1, idx)\n"
   ]
  },
  {
   "cell_type": "code",
   "execution_count": 10,
   "metadata": {},
   "outputs": [
    {
     "data": {
      "text/plain": [
       "tensor([[[0.0000, 0.0000, 0.0000,  ..., 0.0000, 0.0000, 0.0000],\n",
       "         [0.0000, 0.0000, 0.0000,  ..., 0.0000, 0.0000, 0.0000],\n",
       "         [0.0000, 0.0000, 0.0000,  ..., 0.0000, 0.0000, 0.0000],\n",
       "         ...,\n",
       "         [0.4342, 0.4342, 0.4342,  ..., 0.2712, 0.2712, 0.2712],\n",
       "         [0.4342, 0.4342, 0.4342,  ..., 0.2712, 0.2712, 0.2712],\n",
       "         [0.4342, 0.4342, 0.4342,  ..., 0.2712, 0.2712, 0.2712]],\n",
       "\n",
       "        [[0.0000, 0.1039, 1.2334,  ..., 0.0000, 0.7350, 1.1214],\n",
       "         [0.0000, 0.0000, 0.0000,  ..., 0.0000, 0.2409, 0.9744],\n",
       "         [0.0000, 0.0000, 0.0000,  ..., 0.0000, 0.2060, 0.7433],\n",
       "         ...,\n",
       "         [0.7956, 1.7487, 1.1738,  ..., 0.0000, 0.0000, 0.0000],\n",
       "         [0.7863, 1.2513, 1.3964,  ..., 0.0000, 0.0000, 0.0000],\n",
       "         [0.2038, 0.0000, 0.4718,  ..., 0.0000, 0.0000, 0.0000]],\n",
       "\n",
       "        [[0.3503, 0.3503, 0.3503,  ..., 0.9721, 0.9721, 0.9721],\n",
       "         [0.3503, 0.3503, 0.3503,  ..., 0.9721, 0.9721, 0.9721],\n",
       "         [0.3503, 0.3503, 0.3503,  ..., 0.9721, 0.9721, 0.9721],\n",
       "         ...,\n",
       "         [0.6476, 0.6476, 0.6476,  ..., 0.0728, 0.0728, 0.0728],\n",
       "         [0.6476, 0.6476, 0.6476,  ..., 0.0728, 0.0728, 0.0728],\n",
       "         [0.6476, 0.6476, 0.6476,  ..., 0.0728, 0.0728, 0.0728]],\n",
       "\n",
       "        ...,\n",
       "\n",
       "        [[0.0000, 0.0000, 0.0000,  ..., 0.0000, 0.0000, 0.0000],\n",
       "         [0.0000, 0.0000, 0.0000,  ..., 0.0000, 0.0000, 0.0000],\n",
       "         [0.0000, 0.0000, 0.0000,  ..., 0.0000, 0.0000, 0.0000],\n",
       "         ...,\n",
       "         [0.0941, 0.0941, 0.0941,  ..., 0.0000, 0.0000, 0.0000],\n",
       "         [0.0941, 0.0941, 0.0941,  ..., 0.0000, 0.0000, 0.0000],\n",
       "         [0.0941, 0.0941, 0.0941,  ..., 0.0000, 0.0000, 0.0000]],\n",
       "\n",
       "        [[0.0000, 0.0000, 0.0000,  ..., 0.0000, 0.0000, 0.0000],\n",
       "         [0.0000, 0.0000, 0.0000,  ..., 0.0000, 0.0000, 0.0000],\n",
       "         [0.0000, 0.0000, 0.0000,  ..., 0.0000, 0.0000, 0.0000],\n",
       "         ...,\n",
       "         [0.0000, 0.0000, 0.0000,  ..., 0.0000, 0.0000, 0.0000],\n",
       "         [0.0000, 0.0000, 0.0000,  ..., 0.0000, 0.0000, 0.0000],\n",
       "         [0.0000, 0.0000, 0.0000,  ..., 0.0000, 0.0000, 0.0000]],\n",
       "\n",
       "        [[0.0000, 0.4784, 1.5814,  ..., 1.4936, 0.8989, 1.3289],\n",
       "         [0.0000, 0.0000, 1.6207,  ..., 0.2348, 0.0000, 0.1939],\n",
       "         [1.1795, 0.1318, 1.2099,  ..., 0.4766, 0.0000, 0.0000],\n",
       "         ...,\n",
       "         [0.7070, 0.7682, 0.5398,  ..., 1.2254, 1.8017, 1.0210],\n",
       "         [2.0893, 0.2906, 1.0653,  ..., 0.0000, 0.3031, 0.6217],\n",
       "         [0.0000, 0.0000, 0.5695,  ..., 0.0000, 0.0000, 0.4461]]])"
      ]
     },
     "execution_count": 10,
     "metadata": {},
     "output_type": "execute_result"
    }
   ],
   "source": [
    "embedding_vectors[:32][0]"
   ]
  },
  {
   "cell_type": "code",
   "execution_count": 8,
   "metadata": {},
   "outputs": [
    {
     "data": {
      "text/plain": [
       "torch.Size([100, 100, 56, 56])"
      ]
     },
     "execution_count": 8,
     "metadata": {},
     "output_type": "execute_result"
    }
   ],
   "source": [
    "embedding_vectors.shape"
   ]
  },
  {
   "cell_type": "markdown",
   "metadata": {},
   "source": [
    "## Calculate mean vectors and covariance matrices"
   ]
  },
  {
   "cell_type": "code",
   "execution_count": 9,
   "metadata": {},
   "outputs": [],
   "source": [
    "mean, cov = getParameters(embedding_vectors)"
   ]
  },
  {
   "cell_type": "code",
   "execution_count": 10,
   "metadata": {},
   "outputs": [
    {
     "data": {
      "text/plain": [
       "(100, 3136)"
      ]
     },
     "execution_count": 10,
     "metadata": {},
     "output_type": "execute_result"
    }
   ],
   "source": [
    "mean.shape"
   ]
  },
  {
   "cell_type": "code",
   "execution_count": 11,
   "metadata": {},
   "outputs": [
    {
     "data": {
      "text/plain": [
       "array([2.3068463e-04, 2.3068463e-04, 2.3068463e-04, ..., 3.0416000e-01,\n",
       "       3.0416000e-01, 3.0416000e-01], dtype=float32)"
      ]
     },
     "execution_count": 11,
     "metadata": {},
     "output_type": "execute_result"
    }
   ],
   "source": [
    "mean[0]"
   ]
  },
  {
   "cell_type": "markdown",
   "metadata": {},
   "source": [
    "## Save values"
   ]
  },
  {
   "cell_type": "code",
   "execution_count": null,
   "metadata": {},
   "outputs": [],
   "source": [
    "# PATH = './batch_example.pkl'\n",
    "# saveFeatures((mean, cov), PATH)"
   ]
  }
 ],
 "metadata": {
  "kernelspec": {
   "display_name": "Python 3",
   "language": "python",
   "name": "python3"
  },
  "language_info": {
   "codemirror_mode": {
    "name": "ipython",
    "version": 3
   },
   "file_extension": ".py",
   "mimetype": "text/x-python",
   "name": "python",
   "nbconvert_exporter": "python",
   "pygments_lexer": "ipython3",
   "version": "3.7.4"
  }
 },
 "nbformat": 4,
 "nbformat_minor": 4
}
